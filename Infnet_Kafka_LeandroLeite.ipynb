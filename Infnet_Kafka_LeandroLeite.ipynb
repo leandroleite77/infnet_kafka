{
  "nbformat": 4,
  "nbformat_minor": 0,
  "metadata": {
    "colab": {
      "provenance": [],
      "collapsed_sections": [
        "p3ThjuuUHU_E",
        "rFXx0pLQJa2n"
      ]
    },
    "kernelspec": {
      "name": "python3",
      "display_name": "Python 3"
    },
    "language_info": {
      "name": "python"
    }
  },
  "cells": [
    {
      "cell_type": "markdown",
      "source": [
        "# Preparação e Configuração do Ambiente Kafka"
      ],
      "metadata": {
        "id": "p3ThjuuUHU_E"
      }
    },
    {
      "cell_type": "code",
      "execution_count": 1,
      "metadata": {
        "colab": {
          "base_uri": "https://localhost:8080/"
        },
        "id": "zwH_9BC1ZIET",
        "outputId": "26133a34-1a3a-4dc4-ce93-ba9f7c7cc98a"
      },
      "outputs": [
        {
          "output_type": "stream",
          "name": "stdout",
          "text": [
            "openjdk version \"11.0.22\" 2024-01-16\n",
            "OpenJDK Runtime Environment (build 11.0.22+7-post-Ubuntu-0ubuntu222.04.1)\n",
            "OpenJDK 64-Bit Server VM (build 11.0.22+7-post-Ubuntu-0ubuntu222.04.1, mixed mode, sharing)\n"
          ]
        }
      ],
      "source": [
        "#Checando a versão Java instalada\n",
        "!java -version"
      ]
    },
    {
      "cell_type": "code",
      "execution_count": 2,
      "metadata": {
        "id": "iaCmidlHOmex"
      },
      "outputs": [],
      "source": [
        "#Instalando Java 8\n",
        "!apt-get install openjdk-8-jdk-headless -qq > /dev/null\n",
        "# -q, quiet level 2: no output except for errors\n",
        "#> /dev/null on the end of any command where you want to redirect all the stdout into nothingness"
      ]
    },
    {
      "cell_type": "code",
      "execution_count": 3,
      "metadata": {
        "id": "AePAliiuOmnJ",
        "colab": {
          "base_uri": "https://localhost:8080/"
        },
        "outputId": "48355d2e-487f-4e04-bafa-2d62188e3066"
      },
      "outputs": [
        {
          "output_type": "stream",
          "name": "stdout",
          "text": [
            "update-alternatives: using /usr/lib/jvm/java-8-openjdk-amd64/jre/bin/java to provide /usr/bin/java (java) in manual mode\n"
          ]
        }
      ],
      "source": [
        "#Mudando a versão do Java para usar como padrão\n",
        "!update-alternatives --set java /usr/lib/jvm/java-8-openjdk-amd64/jre/bin/java"
      ]
    },
    {
      "cell_type": "code",
      "execution_count": 4,
      "metadata": {
        "id": "BC1RPmpsPEWg",
        "colab": {
          "base_uri": "https://localhost:8080/"
        },
        "outputId": "04944777-bdc8-4578-c127-7713c9ea7dd7"
      },
      "outputs": [
        {
          "output_type": "stream",
          "name": "stdout",
          "text": [
            "update-alternatives: using /usr/lib/jvm/java-8-openjdk-amd64/bin/javac to provide /usr/bin/javac (javac) in manual mode\n"
          ]
        }
      ],
      "source": [
        "#Mudando a versão do javac para usar como padrão\n",
        "!update-alternatives --set javac /usr/lib/jvm/java-8-openjdk-amd64/bin/javac"
      ]
    },
    {
      "cell_type": "code",
      "execution_count": 5,
      "metadata": {
        "id": "u0hY4mDGPFIt",
        "colab": {
          "base_uri": "https://localhost:8080/"
        },
        "outputId": "ceb0b5e9-382c-49dc-c3be-77df7802581a"
      },
      "outputs": [
        {
          "output_type": "stream",
          "name": "stdout",
          "text": [
            "update-alternatives: using /usr/lib/jvm/java-8-openjdk-amd64/bin/jps to provide /usr/bin/jps (jps) in manual mode\n"
          ]
        }
      ],
      "source": [
        "#Mudando a versão do jps para usar como padrão\n",
        "!update-alternatives --set jps /usr/lib/jvm/java-8-openjdk-amd64/bin/jps"
      ]
    },
    {
      "cell_type": "code",
      "execution_count": 6,
      "metadata": {
        "colab": {
          "base_uri": "https://localhost:8080/"
        },
        "id": "CkHD8nlqPRCg",
        "outputId": "ce38ff03-4644-4a21-ef29-bc53a154a9da"
      },
      "outputs": [
        {
          "output_type": "stream",
          "name": "stdout",
          "text": [
            "openjdk version \"1.8.0_392\"\n",
            "OpenJDK Runtime Environment (build 1.8.0_392-8u392-ga-1~22.04-b08)\n",
            "OpenJDK 64-Bit Server VM (build 25.392-b08, mixed mode)\n"
          ]
        }
      ],
      "source": [
        "#Checando a versão de Java padrão\n",
        "!java -version"
      ]
    },
    {
      "cell_type": "code",
      "execution_count": 7,
      "metadata": {
        "colab": {
          "base_uri": "https://localhost:8080/"
        },
        "id": "M-RFGBSvPRuv",
        "outputId": "cbf5ce32-8a0b-4337-e6d8-4229d1f73574"
      },
      "outputs": [
        {
          "output_type": "stream",
          "name": "stdout",
          "text": [
            "/usr/lib/jvm/java-8-openjdk-amd64/jre/\n"
          ]
        }
      ],
      "source": [
        "#Encontrando o caminho Java padrão\n",
        "!readlink -f /usr/bin/java | sed \"s:bin/java::\""
      ]
    },
    {
      "cell_type": "markdown",
      "metadata": {
        "id": "BZq50crHCUOd"
      },
      "source": [
        "**Configuração de variáveis de ambiente**"
      ]
    },
    {
      "cell_type": "code",
      "execution_count": 8,
      "metadata": {
        "id": "mu89lu8uPSKq"
      },
      "outputs": [],
      "source": [
        "#importando o módulo OS\n",
        "import os\n",
        "#Criando as variáveis de ambiente\n",
        "os.environ[\"JAVA_HOME\"] = \"/usr/lib/jvm/java-8-openjdk-amd64\"\n",
        "os.environ[\"JRE_HOME\"] = \"/usr/lib/jvm/java-8-openjdk-amd64/jre\"\n",
        "os.environ[\"PATH\"] += \":$JAVA_HOME/bin:$JRE_HOME/bin:$HADOOP_HOME/bin:$HADOOP_HOME/sbin\""
      ]
    },
    {
      "cell_type": "markdown",
      "metadata": {
        "id": "aEtEB8RVCcC2"
      },
      "source": [
        "**Download e instalação do Kafka**"
      ]
    },
    {
      "cell_type": "code",
      "execution_count": 9,
      "metadata": {
        "id": "r6nNjUZZ1Yqw"
      },
      "outputs": [],
      "source": [
        "#Baixar e descompactar o Kafka (5 minutos)\n",
        "!curl -sSOL https://archive.apache.org/dist/kafka/3.4.0/kafka_2.13-3.4.0.tgz\n",
        "!tar -xzf kafka_2.13-3.4.0.tgz\n",
        "#Remover o arquivo compactado\n",
        "!rm kafka_2.13-3.4.0.tgz"
      ]
    },
    {
      "cell_type": "markdown",
      "metadata": {
        "id": "ENwZWLDaxp0J"
      },
      "source": [
        "Copiando a intalação Kafka para o local padrão"
      ]
    },
    {
      "cell_type": "code",
      "execution_count": 10,
      "metadata": {
        "id": "d2v_Rk6oxwMA"
      },
      "outputs": [],
      "source": [
        "#Copiando os arquivos do kafka para user/local\n",
        "!cp -r kafka_2.13-3.4.0 /usr/local/\n",
        "#-r copia diretórios recursivamente"
      ]
    },
    {
      "cell_type": "markdown",
      "metadata": {
        "id": "P4gZi-YCC9Ad"
      },
      "source": [
        "**Iniciandos os serviços com as configurações padrão**"
      ]
    },
    {
      "cell_type": "code",
      "execution_count": 11,
      "metadata": {
        "colab": {
          "base_uri": "https://localhost:8080/"
        },
        "id": "6t_RvLyZM9Dj",
        "outputId": "c185af70-4933-406a-f45d-00c89579606b"
      },
      "outputs": [
        {
          "output_type": "stream",
          "name": "stdout",
          "text": [
            "Waiting for 10 secs until kafka and zookeeper services are up and running\n"
          ]
        }
      ],
      "source": [
        "#Usando as configurações padrão (fornecidas pelo Apache Kafka) para ativar as instâncias do Zookeper e do Kafka.\n",
        "!./kafka_2.13-3.4.0/bin/zookeeper-server-start.sh -daemon ./kafka_2.13-3.4.0/config/zookeeper.properties\n",
        "!./kafka_2.13-3.4.0/bin/kafka-server-start.sh -daemon ./kafka_2.13-3.4.0/config/server.properties\n",
        "!echo \"Waiting for 10 secs until kafka and zookeeper services are up and running\"\n",
        "!sleep 10"
      ]
    },
    {
      "cell_type": "markdown",
      "metadata": {
        "id": "gS-9h0QxOGFB"
      },
      "source": [
        "Verificando se os dois processos zookeeper e kafka estão em execução."
      ]
    },
    {
      "cell_type": "code",
      "execution_count": 12,
      "metadata": {
        "colab": {
          "base_uri": "https://localhost:8080/"
        },
        "id": "-Sb5sAOSN6vj",
        "outputId": "f585dd67-10bc-4948-e61e-dc2ca5e3201d"
      },
      "outputs": [
        {
          "output_type": "stream",
          "name": "stdout",
          "text": [
            "root        1355     177  0 13:19 ?        00:00:00 /bin/bash -c ps -ef | grep kafka\n",
            "root        1357    1355  0 13:19 ?        00:00:00 grep kafka\n"
          ]
        }
      ],
      "source": [
        "#Lista de processos\n",
        "!ps -ef | grep kafka"
      ]
    },
    {
      "cell_type": "markdown",
      "source": [
        "**Instalando a biblioteca Pyhton-Kafka**"
      ],
      "metadata": {
        "id": "V5WSTVIeabH6"
      }
    },
    {
      "cell_type": "code",
      "source": [
        "!pip install kafka-python"
      ],
      "metadata": {
        "colab": {
          "base_uri": "https://localhost:8080/"
        },
        "id": "hgKgVkWNmlT3",
        "outputId": "62271e16-16ac-4575-c417-2399c2d21da1"
      },
      "execution_count": 13,
      "outputs": [
        {
          "output_type": "stream",
          "name": "stdout",
          "text": [
            "Collecting kafka-python\n",
            "  Downloading kafka_python-2.0.2-py2.py3-none-any.whl (246 kB)\n",
            "\u001b[?25l     \u001b[90m━━━━━━━━━━━━━━━━━━━━━━━━━━━━━━━━━━━━━━━━\u001b[0m \u001b[32m0.0/246.5 kB\u001b[0m \u001b[31m?\u001b[0m eta \u001b[36m-:--:--\u001b[0m\r\u001b[2K     \u001b[91m━━━━━━━━━━━━━\u001b[0m\u001b[90m╺\u001b[0m\u001b[90m━━━━━━━━━━━━━━━━━━━━━━━━━━\u001b[0m \u001b[32m81.9/246.5 kB\u001b[0m \u001b[31m2.5 MB/s\u001b[0m eta \u001b[36m0:00:01\u001b[0m\r\u001b[2K     \u001b[90m━━━━━━━━━━━━━━━━━━━━━━━━━━━━━━━━━━━━━━━━\u001b[0m \u001b[32m246.5/246.5 kB\u001b[0m \u001b[31m4.1 MB/s\u001b[0m eta \u001b[36m0:00:00\u001b[0m\n",
            "\u001b[?25hInstalling collected packages: kafka-python\n",
            "Successfully installed kafka-python-2.0.2\n"
          ]
        }
      ]
    },
    {
      "cell_type": "markdown",
      "source": [
        "# Ingestão dos dados de log para pré-processamento e preparação antes da transmissão."
      ],
      "metadata": {
        "id": "rFXx0pLQJa2n"
      }
    },
    {
      "cell_type": "markdown",
      "source": [
        "Extraindo o zip com os arquivos que formam a base de dados original"
      ],
      "metadata": {
        "id": "qpcyFB9EQ06T"
      }
    },
    {
      "cell_type": "code",
      "source": [
        "!unzip 'Netflix_WatchLog_Kaggle.zip'"
      ],
      "metadata": {
        "colab": {
          "base_uri": "https://localhost:8080/"
        },
        "id": "KiGeYQSKQSoT",
        "outputId": "d2856634-089c-466f-e852-82071396b3e5"
      },
      "execution_count": 14,
      "outputs": [
        {
          "output_type": "stream",
          "name": "stdout",
          "text": [
            "Archive:  Netflix_WatchLog_Kaggle.zip\n",
            "  inflating: All_Clickstream.csv     \n",
            "  inflating: All_Devices.csv         \n",
            "  inflating: All_Profiles.csv        \n",
            "  inflating: All_SearchHistory.csv   \n",
            "  inflating: All_ViewingActivity.csv  \n"
          ]
        }
      ]
    },
    {
      "cell_type": "markdown",
      "source": [
        "Lendo os dados com os logs das atividades de visualização de cada título pelo usuário e transformando para o formado json."
      ],
      "metadata": {
        "id": "Hx5Dtkd-RBMS"
      }
    },
    {
      "cell_type": "code",
      "source": [
        "import csv\n",
        "import json\n",
        "\n",
        "with open('All_ViewingActivity.csv', 'r') as f:\n",
        "  reader = csv.DictReader(f)\n",
        "  data_logs = []\n",
        "  for row in reader:\n",
        "    data_logs.append(row)\n",
        "\n",
        "f.close()\n",
        "del reader, row, f"
      ],
      "metadata": {
        "id": "CC5tEOZkRFLF"
      },
      "execution_count": 15,
      "outputs": []
    },
    {
      "cell_type": "markdown",
      "source": [
        "Analisando a estrutura do arquivo json"
      ],
      "metadata": {
        "id": "T12HKB6jRuaO"
      }
    },
    {
      "cell_type": "code",
      "source": [
        "# Exemplo da estrutura json para um registro de log\n",
        "data_logs[0]"
      ],
      "metadata": {
        "colab": {
          "base_uri": "https://localhost:8080/"
        },
        "id": "eR2Og1unRuow",
        "outputId": "6ed983ed-1590-436e-9469-0a0ce2e25d5a"
      },
      "execution_count": 16,
      "outputs": [
        {
          "output_type": "execute_result",
          "data": {
            "text/plain": [
              "{'Profile Name': 'User 1',\n",
              " 'Start Time': '2022-04-28 16:08:56',\n",
              " 'Duration': '00:00:06',\n",
              " 'Attributes': '',\n",
              " 'Title': 'Chernobyl 1986',\n",
              " 'Supplemental Video Type': '',\n",
              " 'Device Type': 'Device Type 1',\n",
              " 'Bookmark': '01:02:16',\n",
              " 'Latest Bookmark': '01:02:16',\n",
              " 'Country': 'IN (India)'}"
            ]
          },
          "metadata": {},
          "execution_count": 16
        }
      ]
    },
    {
      "cell_type": "markdown",
      "source": [
        "# Configuração e Integração para Envio das Mansagens (Producer_Consumer Kafka)"
      ],
      "metadata": {
        "id": "w6Jsvth7J9ok"
      }
    },
    {
      "cell_type": "markdown",
      "source": [
        "Criação do Tópico"
      ],
      "metadata": {
        "id": "Yzt5tx7bO7wr"
      }
    },
    {
      "cell_type": "code",
      "source": [
        "#Importa as funções do Python-Kafka\n",
        "from kafka.admin import KafkaAdminClient, NewTopic\n",
        "\n",
        "# Cria uma instância do KafkaAdminClient\n",
        "admin_client = KafkaAdminClient(bootstrap_servers=\"localhost:9092\", client_id='client1')\n",
        "\n",
        "#Cria uma lista para receber os tópicos\n",
        "topic_list = []\n",
        "\n",
        "#Lista o tópico\n",
        "topic_list.append(NewTopic(name=\"DataLog_Netflix\", num_partitions=1, replication_factor=1))\n",
        "\n",
        "#Cria o tópico\n",
        "admin_client.create_topics(new_topics=topic_list, validate_only=False)"
      ],
      "metadata": {
        "colab": {
          "base_uri": "https://localhost:8080/"
        },
        "id": "XLHazd-7m3Lx",
        "outputId": "b8d9e5f4-da4b-4ae7-dca3-d477086af092"
      },
      "execution_count": 17,
      "outputs": [
        {
          "output_type": "execute_result",
          "data": {
            "text/plain": [
              "CreateTopicsResponse_v3(throttle_time_ms=0, topic_errors=[(topic='DataLog_Netflix', error_code=0, error_message=None)])"
            ]
          },
          "metadata": {},
          "execution_count": 17
        }
      ]
    },
    {
      "cell_type": "markdown",
      "source": [
        "LIstando os Tópicos"
      ],
      "metadata": {
        "id": "ChrR_90iPUHD"
      }
    },
    {
      "cell_type": "code",
      "source": [
        "topics = admin_client.list_topics()\n",
        "\n",
        "print(topics)"
      ],
      "metadata": {
        "colab": {
          "base_uri": "https://localhost:8080/"
        },
        "id": "DKqZLjSMPbej",
        "outputId": "d607fc18-eb46-4162-819f-893087397589"
      },
      "execution_count": 18,
      "outputs": [
        {
          "output_type": "stream",
          "name": "stdout",
          "text": [
            "['DataLog_Netflix']\n"
          ]
        }
      ]
    },
    {
      "cell_type": "markdown",
      "source": [
        "Verificando as informações sobre o tópico"
      ],
      "metadata": {
        "id": "Vnx3Eb-APfm8"
      }
    },
    {
      "cell_type": "code",
      "source": [
        "#Busca detalhes do tópico\n",
        "topic_details = admin_client.describe_topics(['DataLog_Netflix'])\n",
        "\n",
        "#Imprime as informações obtidas\n",
        "print(topic_details)"
      ],
      "metadata": {
        "colab": {
          "base_uri": "https://localhost:8080/"
        },
        "id": "yw6ZOynTPjX4",
        "outputId": "03f3cb33-a43d-425b-be1c-146c8dc7de4b"
      },
      "execution_count": 19,
      "outputs": [
        {
          "output_type": "stream",
          "name": "stdout",
          "text": [
            "[{'error_code': 0, 'topic': 'DataLog_Netflix', 'is_internal': False, 'partitions': [{'error_code': 0, 'partition': 0, 'leader': 0, 'replicas': [0], 'isr': [0], 'offline_replicas': []}]}]\n"
          ]
        }
      ]
    },
    {
      "cell_type": "markdown",
      "source": [
        "Verificando a quantidade de logs - mensagens que serão enviadas através do Kafka"
      ],
      "metadata": {
        "id": "8dHWFPL9U3DI"
      }
    },
    {
      "cell_type": "code",
      "source": [
        "print(len(data_logs))"
      ],
      "metadata": {
        "colab": {
          "base_uri": "https://localhost:8080/"
        },
        "id": "R3NnyK7EU3XR",
        "outputId": "81d7fad8-67b3-4bce-dab6-28a444ca9d8e"
      },
      "execution_count": 20,
      "outputs": [
        {
          "output_type": "stream",
          "name": "stdout",
          "text": [
            "9992\n"
          ]
        }
      ]
    },
    {
      "cell_type": "markdown",
      "source": [
        "Produzindo Mensagem"
      ],
      "metadata": {
        "id": "BDPLqhEfQf-x"
      }
    },
    {
      "cell_type": "code",
      "source": [
        "from kafka import KafkaProducer\n",
        "\n",
        "#Variáveis do kafka\n",
        "kafka_brokers = [\"localhost:9092\"]\n",
        "topic_name = \"DataLog_Netflix\"\n",
        "\n",
        "#Inicializa o produtor\n",
        "producer = KafkaProducer(bootstrap_servers=kafka_brokers,\n",
        "                         value_serializer=lambda v: json.dumps(v).encode('utf-8'))\n",
        "\n",
        "count = 0\n",
        "#Envia uma mensagem\n",
        "for message in data_logs:\n",
        "  producer.send(topic_name, value=message)\n",
        "  count+=1\n",
        "\n",
        "#Garante que todas as mensagens pendentes sejam enviadas e trata qualquer erro\n",
        "producer.flush()"
      ],
      "metadata": {
        "id": "e3pME-dJKIQV"
      },
      "execution_count": 21,
      "outputs": []
    },
    {
      "cell_type": "markdown",
      "source": [
        "Consumindo Mensagem"
      ],
      "metadata": {
        "id": "ihHGw2pnQi0h"
      }
    },
    {
      "cell_type": "code",
      "source": [
        "from kafka import KafkaConsumer\n",
        "\n",
        "#Variáveis do kafka\n",
        "kafka_brokers = [\"localhost:9092\"]\n",
        "topic_name = \"DataLog_Netflix\"\n",
        "\n",
        "#Inicializa o consumidor com um group_id\n",
        "consumer = KafkaConsumer(\n",
        "    topic_name,\n",
        "    bootstrap_servers=kafka_brokers,\n",
        "    auto_offset_reset='earliest',  #Começa a ler desde o início do tópico\n",
        "    group_id='client1', #Especifica um group_id para o consumidor\n",
        "    consumer_timeout_ms=5000,  # Sair do loop após 5 segundos sem mensagens\n",
        "    value_deserializer=lambda x: json.loads(x.decode('utf-8'))\n",
        ")\n",
        "\n",
        "message_rec = []\n",
        "\n",
        "#Lê e imprime a primeira mensagem recebida\n",
        "for i in consumer:\n",
        "    message_rec.append(i.value)\n",
        "\n",
        "#Fechar o consumidor quando terminar\n",
        "consumer.close()\n",
        "\n",
        "#Deletando algumas das variáveis\n",
        "del count, i, message, topic_details, topic_list, topic_name, topics"
      ],
      "metadata": {
        "id": "4yjmzLkrQlad"
      },
      "execution_count": 23,
      "outputs": []
    },
    {
      "cell_type": "markdown",
      "source": [
        "Validando a quantidade de mensagens recebidas pelo consumidor:"
      ],
      "metadata": {
        "id": "ZLchaFU2i2OZ"
      }
    },
    {
      "cell_type": "code",
      "source": [
        "print(len(message_rec))"
      ],
      "metadata": {
        "colab": {
          "base_uri": "https://localhost:8080/"
        },
        "id": "1_c32s7Wi8tG",
        "outputId": "3e54d629-9cdf-48a5-9d27-85f91b03ca49"
      },
      "execution_count": 33,
      "outputs": [
        {
          "output_type": "stream",
          "name": "stdout",
          "text": [
            "9992\n"
          ]
        }
      ]
    },
    {
      "cell_type": "markdown",
      "source": [
        "# Análise dos Dados e Carregamento do Resultados - Analytics"
      ],
      "metadata": {
        "id": "BReZRy3mHnn8"
      }
    },
    {
      "cell_type": "code",
      "source": [
        "# Analisar a duração média que cada usuário assiste aos títulos na Netflix.\n",
        "# Analisar o tempo total assitido pelo usuário em função do dia da semana.\n",
        "\n",
        "import datetime\n",
        "\n",
        "# Esta variável representa a lista com os dados que serão analisados para responder às questões analíticas formuladas.\n",
        "# Dados armazenados: 'User', 'Title', 'Date','Duration Hour', 'Duration Minute', 'Duration Second', 'Total in Minutes'\n",
        "titles_viwed_lst = []\n",
        "\n",
        "for i in message_rec:\n",
        "  # obter o id do usuário:\n",
        "  user_id = i['Profile Name']\n",
        "\n",
        "  # obter o nome do título assistido:\n",
        "  title_vw = i['Title']\n",
        "\n",
        "  # obter somente a data no formato y-m-d (ano-mês-dia):\n",
        "  date_vw = datetime.datetime.strptime(i['Start Time'], '%Y-%m-%d %H:%M:%S').date()\n",
        "\n",
        "  # calcular o tempo de visualização de cada título:\n",
        "  duration_vw = datetime.datetime.strptime(i['Duration'], '%H:%M:%S')\n",
        "  total_minutes_vw = round(int(duration_vw.hour)*60 + int(duration_vw.minute) + int(duration_vw.second)/60, 4)\n",
        "\n",
        "  # gravar dados na lista\n",
        "  titles_viwed_lst.append([user_id, title_vw, date_vw, duration_vw.hour, duration_vw.minute, duration_vw.second, total_minutes_vw])\n",
        "\n",
        "del user_id, total_minutes_vw, title_vw, i, duration_vw, date_vw"
      ],
      "metadata": {
        "id": "kSKnBTPPe87N"
      },
      "execution_count": 34,
      "outputs": []
    },
    {
      "cell_type": "code",
      "source": [
        "# Transformação da lista num DataFrame Pandas para análise e resposta às questões analíticas\n",
        "\n",
        "import pandas as pd\n",
        "\n",
        "ViewActivity_df = pd.DataFrame(titles_viwed_lst, columns=['User', 'Title', 'Date','Duration Hour', 'Duration Minute', 'Duration Second', 'Total in Minutes'])\n",
        "ViewActivity_df.head()"
      ],
      "metadata": {
        "colab": {
          "base_uri": "https://localhost:8080/",
          "height": 310
        },
        "id": "_4exS1g4MT5b",
        "outputId": "d03f4814-1fcc-4a78-9bb7-1ef91c191e1a"
      },
      "execution_count": 35,
      "outputs": [
        {
          "output_type": "execute_result",
          "data": {
            "text/plain": [
              "     User                                      Title        Date  \\\n",
              "0  User 1                             Chernobyl 1986  2022-04-28   \n",
              "1  User 1  13 Hours: The Secret Soldiers of Benghazi  2022-04-28   \n",
              "2  User 1                        Saving Private Ryan  2022-04-28   \n",
              "3  User 1                                      Mosul  2022-04-28   \n",
              "4  User 1                                  12 Strong  2022-04-28   \n",
              "\n",
              "   Duration Hour  Duration Minute  Duration Second  Total in Minutes  \n",
              "0              0                0                6              0.10  \n",
              "1              0                9               39              9.65  \n",
              "2              0                0                6              0.10  \n",
              "3              0                0               15              0.25  \n",
              "4              0                1               45              1.75  "
            ],
            "text/html": [
              "\n",
              "  <div id=\"df-e3b1f192-2d05-4904-ab15-15dcb7a6605a\" class=\"colab-df-container\">\n",
              "    <div>\n",
              "<style scoped>\n",
              "    .dataframe tbody tr th:only-of-type {\n",
              "        vertical-align: middle;\n",
              "    }\n",
              "\n",
              "    .dataframe tbody tr th {\n",
              "        vertical-align: top;\n",
              "    }\n",
              "\n",
              "    .dataframe thead th {\n",
              "        text-align: right;\n",
              "    }\n",
              "</style>\n",
              "<table border=\"1\" class=\"dataframe\">\n",
              "  <thead>\n",
              "    <tr style=\"text-align: right;\">\n",
              "      <th></th>\n",
              "      <th>User</th>\n",
              "      <th>Title</th>\n",
              "      <th>Date</th>\n",
              "      <th>Duration Hour</th>\n",
              "      <th>Duration Minute</th>\n",
              "      <th>Duration Second</th>\n",
              "      <th>Total in Minutes</th>\n",
              "    </tr>\n",
              "  </thead>\n",
              "  <tbody>\n",
              "    <tr>\n",
              "      <th>0</th>\n",
              "      <td>User 1</td>\n",
              "      <td>Chernobyl 1986</td>\n",
              "      <td>2022-04-28</td>\n",
              "      <td>0</td>\n",
              "      <td>0</td>\n",
              "      <td>6</td>\n",
              "      <td>0.10</td>\n",
              "    </tr>\n",
              "    <tr>\n",
              "      <th>1</th>\n",
              "      <td>User 1</td>\n",
              "      <td>13 Hours: The Secret Soldiers of Benghazi</td>\n",
              "      <td>2022-04-28</td>\n",
              "      <td>0</td>\n",
              "      <td>9</td>\n",
              "      <td>39</td>\n",
              "      <td>9.65</td>\n",
              "    </tr>\n",
              "    <tr>\n",
              "      <th>2</th>\n",
              "      <td>User 1</td>\n",
              "      <td>Saving Private Ryan</td>\n",
              "      <td>2022-04-28</td>\n",
              "      <td>0</td>\n",
              "      <td>0</td>\n",
              "      <td>6</td>\n",
              "      <td>0.10</td>\n",
              "    </tr>\n",
              "    <tr>\n",
              "      <th>3</th>\n",
              "      <td>User 1</td>\n",
              "      <td>Mosul</td>\n",
              "      <td>2022-04-28</td>\n",
              "      <td>0</td>\n",
              "      <td>0</td>\n",
              "      <td>15</td>\n",
              "      <td>0.25</td>\n",
              "    </tr>\n",
              "    <tr>\n",
              "      <th>4</th>\n",
              "      <td>User 1</td>\n",
              "      <td>12 Strong</td>\n",
              "      <td>2022-04-28</td>\n",
              "      <td>0</td>\n",
              "      <td>1</td>\n",
              "      <td>45</td>\n",
              "      <td>1.75</td>\n",
              "    </tr>\n",
              "  </tbody>\n",
              "</table>\n",
              "</div>\n",
              "    <div class=\"colab-df-buttons\">\n",
              "\n",
              "  <div class=\"colab-df-container\">\n",
              "    <button class=\"colab-df-convert\" onclick=\"convertToInteractive('df-e3b1f192-2d05-4904-ab15-15dcb7a6605a')\"\n",
              "            title=\"Convert this dataframe to an interactive table.\"\n",
              "            style=\"display:none;\">\n",
              "\n",
              "  <svg xmlns=\"http://www.w3.org/2000/svg\" height=\"24px\" viewBox=\"0 -960 960 960\">\n",
              "    <path d=\"M120-120v-720h720v720H120Zm60-500h600v-160H180v160Zm220 220h160v-160H400v160Zm0 220h160v-160H400v160ZM180-400h160v-160H180v160Zm440 0h160v-160H620v160ZM180-180h160v-160H180v160Zm440 0h160v-160H620v160Z\"/>\n",
              "  </svg>\n",
              "    </button>\n",
              "\n",
              "  <style>\n",
              "    .colab-df-container {\n",
              "      display:flex;\n",
              "      gap: 12px;\n",
              "    }\n",
              "\n",
              "    .colab-df-convert {\n",
              "      background-color: #E8F0FE;\n",
              "      border: none;\n",
              "      border-radius: 50%;\n",
              "      cursor: pointer;\n",
              "      display: none;\n",
              "      fill: #1967D2;\n",
              "      height: 32px;\n",
              "      padding: 0 0 0 0;\n",
              "      width: 32px;\n",
              "    }\n",
              "\n",
              "    .colab-df-convert:hover {\n",
              "      background-color: #E2EBFA;\n",
              "      box-shadow: 0px 1px 2px rgba(60, 64, 67, 0.3), 0px 1px 3px 1px rgba(60, 64, 67, 0.15);\n",
              "      fill: #174EA6;\n",
              "    }\n",
              "\n",
              "    .colab-df-buttons div {\n",
              "      margin-bottom: 4px;\n",
              "    }\n",
              "\n",
              "    [theme=dark] .colab-df-convert {\n",
              "      background-color: #3B4455;\n",
              "      fill: #D2E3FC;\n",
              "    }\n",
              "\n",
              "    [theme=dark] .colab-df-convert:hover {\n",
              "      background-color: #434B5C;\n",
              "      box-shadow: 0px 1px 3px 1px rgba(0, 0, 0, 0.15);\n",
              "      filter: drop-shadow(0px 1px 2px rgba(0, 0, 0, 0.3));\n",
              "      fill: #FFFFFF;\n",
              "    }\n",
              "  </style>\n",
              "\n",
              "    <script>\n",
              "      const buttonEl =\n",
              "        document.querySelector('#df-e3b1f192-2d05-4904-ab15-15dcb7a6605a button.colab-df-convert');\n",
              "      buttonEl.style.display =\n",
              "        google.colab.kernel.accessAllowed ? 'block' : 'none';\n",
              "\n",
              "      async function convertToInteractive(key) {\n",
              "        const element = document.querySelector('#df-e3b1f192-2d05-4904-ab15-15dcb7a6605a');\n",
              "        const dataTable =\n",
              "          await google.colab.kernel.invokeFunction('convertToInteractive',\n",
              "                                                    [key], {});\n",
              "        if (!dataTable) return;\n",
              "\n",
              "        const docLinkHtml = 'Like what you see? Visit the ' +\n",
              "          '<a target=\"_blank\" href=https://colab.research.google.com/notebooks/data_table.ipynb>data table notebook</a>'\n",
              "          + ' to learn more about interactive tables.';\n",
              "        element.innerHTML = '';\n",
              "        dataTable['output_type'] = 'display_data';\n",
              "        await google.colab.output.renderOutput(dataTable, element);\n",
              "        const docLink = document.createElement('div');\n",
              "        docLink.innerHTML = docLinkHtml;\n",
              "        element.appendChild(docLink);\n",
              "      }\n",
              "    </script>\n",
              "  </div>\n",
              "\n",
              "\n",
              "<div id=\"df-1cb53c50-ca21-46c9-a21c-b9c7c5daef99\">\n",
              "  <button class=\"colab-df-quickchart\" onclick=\"quickchart('df-1cb53c50-ca21-46c9-a21c-b9c7c5daef99')\"\n",
              "            title=\"Suggest charts\"\n",
              "            style=\"display:none;\">\n",
              "\n",
              "<svg xmlns=\"http://www.w3.org/2000/svg\" height=\"24px\"viewBox=\"0 0 24 24\"\n",
              "     width=\"24px\">\n",
              "    <g>\n",
              "        <path d=\"M19 3H5c-1.1 0-2 .9-2 2v14c0 1.1.9 2 2 2h14c1.1 0 2-.9 2-2V5c0-1.1-.9-2-2-2zM9 17H7v-7h2v7zm4 0h-2V7h2v10zm4 0h-2v-4h2v4z\"/>\n",
              "    </g>\n",
              "</svg>\n",
              "  </button>\n",
              "\n",
              "<style>\n",
              "  .colab-df-quickchart {\n",
              "      --bg-color: #E8F0FE;\n",
              "      --fill-color: #1967D2;\n",
              "      --hover-bg-color: #E2EBFA;\n",
              "      --hover-fill-color: #174EA6;\n",
              "      --disabled-fill-color: #AAA;\n",
              "      --disabled-bg-color: #DDD;\n",
              "  }\n",
              "\n",
              "  [theme=dark] .colab-df-quickchart {\n",
              "      --bg-color: #3B4455;\n",
              "      --fill-color: #D2E3FC;\n",
              "      --hover-bg-color: #434B5C;\n",
              "      --hover-fill-color: #FFFFFF;\n",
              "      --disabled-bg-color: #3B4455;\n",
              "      --disabled-fill-color: #666;\n",
              "  }\n",
              "\n",
              "  .colab-df-quickchart {\n",
              "    background-color: var(--bg-color);\n",
              "    border: none;\n",
              "    border-radius: 50%;\n",
              "    cursor: pointer;\n",
              "    display: none;\n",
              "    fill: var(--fill-color);\n",
              "    height: 32px;\n",
              "    padding: 0;\n",
              "    width: 32px;\n",
              "  }\n",
              "\n",
              "  .colab-df-quickchart:hover {\n",
              "    background-color: var(--hover-bg-color);\n",
              "    box-shadow: 0 1px 2px rgba(60, 64, 67, 0.3), 0 1px 3px 1px rgba(60, 64, 67, 0.15);\n",
              "    fill: var(--button-hover-fill-color);\n",
              "  }\n",
              "\n",
              "  .colab-df-quickchart-complete:disabled,\n",
              "  .colab-df-quickchart-complete:disabled:hover {\n",
              "    background-color: var(--disabled-bg-color);\n",
              "    fill: var(--disabled-fill-color);\n",
              "    box-shadow: none;\n",
              "  }\n",
              "\n",
              "  .colab-df-spinner {\n",
              "    border: 2px solid var(--fill-color);\n",
              "    border-color: transparent;\n",
              "    border-bottom-color: var(--fill-color);\n",
              "    animation:\n",
              "      spin 1s steps(1) infinite;\n",
              "  }\n",
              "\n",
              "  @keyframes spin {\n",
              "    0% {\n",
              "      border-color: transparent;\n",
              "      border-bottom-color: var(--fill-color);\n",
              "      border-left-color: var(--fill-color);\n",
              "    }\n",
              "    20% {\n",
              "      border-color: transparent;\n",
              "      border-left-color: var(--fill-color);\n",
              "      border-top-color: var(--fill-color);\n",
              "    }\n",
              "    30% {\n",
              "      border-color: transparent;\n",
              "      border-left-color: var(--fill-color);\n",
              "      border-top-color: var(--fill-color);\n",
              "      border-right-color: var(--fill-color);\n",
              "    }\n",
              "    40% {\n",
              "      border-color: transparent;\n",
              "      border-right-color: var(--fill-color);\n",
              "      border-top-color: var(--fill-color);\n",
              "    }\n",
              "    60% {\n",
              "      border-color: transparent;\n",
              "      border-right-color: var(--fill-color);\n",
              "    }\n",
              "    80% {\n",
              "      border-color: transparent;\n",
              "      border-right-color: var(--fill-color);\n",
              "      border-bottom-color: var(--fill-color);\n",
              "    }\n",
              "    90% {\n",
              "      border-color: transparent;\n",
              "      border-bottom-color: var(--fill-color);\n",
              "    }\n",
              "  }\n",
              "</style>\n",
              "\n",
              "  <script>\n",
              "    async function quickchart(key) {\n",
              "      const quickchartButtonEl =\n",
              "        document.querySelector('#' + key + ' button');\n",
              "      quickchartButtonEl.disabled = true;  // To prevent multiple clicks.\n",
              "      quickchartButtonEl.classList.add('colab-df-spinner');\n",
              "      try {\n",
              "        const charts = await google.colab.kernel.invokeFunction(\n",
              "            'suggestCharts', [key], {});\n",
              "      } catch (error) {\n",
              "        console.error('Error during call to suggestCharts:', error);\n",
              "      }\n",
              "      quickchartButtonEl.classList.remove('colab-df-spinner');\n",
              "      quickchartButtonEl.classList.add('colab-df-quickchart-complete');\n",
              "    }\n",
              "    (() => {\n",
              "      let quickchartButtonEl =\n",
              "        document.querySelector('#df-1cb53c50-ca21-46c9-a21c-b9c7c5daef99 button');\n",
              "      quickchartButtonEl.style.display =\n",
              "        google.colab.kernel.accessAllowed ? 'block' : 'none';\n",
              "    })();\n",
              "  </script>\n",
              "</div>\n",
              "\n",
              "    </div>\n",
              "  </div>\n"
            ],
            "application/vnd.google.colaboratory.intrinsic+json": {
              "type": "dataframe",
              "variable_name": "ViewActivity_df",
              "summary": "{\n  \"name\": \"ViewActivity_df\",\n  \"rows\": 9992,\n  \"fields\": [\n    {\n      \"column\": \"User\",\n      \"properties\": {\n        \"dtype\": \"category\",\n        \"num_unique_values\": 9,\n        \"samples\": [\n          \"User 8\",\n          \"User 3\",\n          \"User 6\"\n        ],\n        \"semantic_type\": \"\",\n        \"description\": \"\"\n      }\n    },\n    {\n      \"column\": \"Title\",\n      \"properties\": {\n        \"dtype\": \"category\",\n        \"num_unique_values\": 4327,\n        \"samples\": [\n          \"Never Have I Ever: Season 2: ... thrown a rager (Episode 2)\",\n          \"DEATH NOTE: Death Note: Silence (Episode 25)\",\n          \"The IT Crowd: Series 1: Fifty-Fifty (Episode 3)\"\n        ],\n        \"semantic_type\": \"\",\n        \"description\": \"\"\n      }\n    },\n    {\n      \"column\": \"Date\",\n      \"properties\": {\n        \"dtype\": \"date\",\n        \"min\": \"2021-10-30\",\n        \"max\": \"2023-06-20\",\n        \"num_unique_values\": 544,\n        \"samples\": [\n          \"2022-11-03\",\n          \"2022-01-02\",\n          \"2022-10-25\"\n        ],\n        \"semantic_type\": \"\",\n        \"description\": \"\"\n      }\n    },\n    {\n      \"column\": \"Duration Hour\",\n      \"properties\": {\n        \"dtype\": \"number\",\n        \"std\": 0,\n        \"min\": 0,\n        \"max\": 2,\n        \"num_unique_values\": 3,\n        \"samples\": [\n          0,\n          1,\n          2\n        ],\n        \"semantic_type\": \"\",\n        \"description\": \"\"\n      }\n    },\n    {\n      \"column\": \"Duration Minute\",\n      \"properties\": {\n        \"dtype\": \"number\",\n        \"std\": 14,\n        \"min\": 0,\n        \"max\": 59,\n        \"num_unique_values\": 60,\n        \"samples\": [\n          0,\n          32,\n          38\n        ],\n        \"semantic_type\": \"\",\n        \"description\": \"\"\n      }\n    },\n    {\n      \"column\": \"Duration Second\",\n      \"properties\": {\n        \"dtype\": \"number\",\n        \"std\": 17,\n        \"min\": 0,\n        \"max\": 59,\n        \"num_unique_values\": 60,\n        \"samples\": [\n          6,\n          33,\n          22\n        ],\n        \"semantic_type\": \"\",\n        \"description\": \"\"\n      }\n    },\n    {\n      \"column\": \"Total in Minutes\",\n      \"properties\": {\n        \"dtype\": \"number\",\n        \"std\": 19.25999281082592,\n        \"min\": 0.0167,\n        \"max\": 176.6667,\n        \"num_unique_values\": 2741,\n        \"samples\": [\n          32.4,\n          37.6333,\n          44.25\n        ],\n        \"semantic_type\": \"\",\n        \"description\": \"\"\n      }\n    }\n  ]\n}"
            }
          },
          "metadata": {},
          "execution_count": 35
        }
      ]
    },
    {
      "cell_type": "code",
      "source": [
        "# Analisando os resulatdos:\n",
        "ViewActivity_df.describe()"
      ],
      "metadata": {
        "colab": {
          "base_uri": "https://localhost:8080/",
          "height": 300
        },
        "id": "0pyBZFQYU0cD",
        "outputId": "42a06680-7291-49b5-f7dc-c6c3742b2630"
      },
      "execution_count": 36,
      "outputs": [
        {
          "output_type": "execute_result",
          "data": {
            "text/plain": [
              "       Duration Hour  Duration Minute  Duration Second  Total in Minutes\n",
              "count    9992.000000      9992.000000      9992.000000       9992.000000\n",
              "mean        0.030624        12.646417        25.066553         14.901664\n",
              "std         0.197732        14.184310        17.710278         19.259993\n",
              "min         0.000000         0.000000         0.000000          0.016700\n",
              "25%         0.000000         0.000000         8.000000          0.533300\n",
              "50%         0.000000         8.000000        23.000000          8.550000\n",
              "75%         0.000000        21.000000        40.000000         21.616700\n",
              "max         2.000000        59.000000        59.000000        176.666700"
            ],
            "text/html": [
              "\n",
              "  <div id=\"df-2d2d710a-b4ea-4a36-8d0c-2a2abd6cbbb6\" class=\"colab-df-container\">\n",
              "    <div>\n",
              "<style scoped>\n",
              "    .dataframe tbody tr th:only-of-type {\n",
              "        vertical-align: middle;\n",
              "    }\n",
              "\n",
              "    .dataframe tbody tr th {\n",
              "        vertical-align: top;\n",
              "    }\n",
              "\n",
              "    .dataframe thead th {\n",
              "        text-align: right;\n",
              "    }\n",
              "</style>\n",
              "<table border=\"1\" class=\"dataframe\">\n",
              "  <thead>\n",
              "    <tr style=\"text-align: right;\">\n",
              "      <th></th>\n",
              "      <th>Duration Hour</th>\n",
              "      <th>Duration Minute</th>\n",
              "      <th>Duration Second</th>\n",
              "      <th>Total in Minutes</th>\n",
              "    </tr>\n",
              "  </thead>\n",
              "  <tbody>\n",
              "    <tr>\n",
              "      <th>count</th>\n",
              "      <td>9992.000000</td>\n",
              "      <td>9992.000000</td>\n",
              "      <td>9992.000000</td>\n",
              "      <td>9992.000000</td>\n",
              "    </tr>\n",
              "    <tr>\n",
              "      <th>mean</th>\n",
              "      <td>0.030624</td>\n",
              "      <td>12.646417</td>\n",
              "      <td>25.066553</td>\n",
              "      <td>14.901664</td>\n",
              "    </tr>\n",
              "    <tr>\n",
              "      <th>std</th>\n",
              "      <td>0.197732</td>\n",
              "      <td>14.184310</td>\n",
              "      <td>17.710278</td>\n",
              "      <td>19.259993</td>\n",
              "    </tr>\n",
              "    <tr>\n",
              "      <th>min</th>\n",
              "      <td>0.000000</td>\n",
              "      <td>0.000000</td>\n",
              "      <td>0.000000</td>\n",
              "      <td>0.016700</td>\n",
              "    </tr>\n",
              "    <tr>\n",
              "      <th>25%</th>\n",
              "      <td>0.000000</td>\n",
              "      <td>0.000000</td>\n",
              "      <td>8.000000</td>\n",
              "      <td>0.533300</td>\n",
              "    </tr>\n",
              "    <tr>\n",
              "      <th>50%</th>\n",
              "      <td>0.000000</td>\n",
              "      <td>8.000000</td>\n",
              "      <td>23.000000</td>\n",
              "      <td>8.550000</td>\n",
              "    </tr>\n",
              "    <tr>\n",
              "      <th>75%</th>\n",
              "      <td>0.000000</td>\n",
              "      <td>21.000000</td>\n",
              "      <td>40.000000</td>\n",
              "      <td>21.616700</td>\n",
              "    </tr>\n",
              "    <tr>\n",
              "      <th>max</th>\n",
              "      <td>2.000000</td>\n",
              "      <td>59.000000</td>\n",
              "      <td>59.000000</td>\n",
              "      <td>176.666700</td>\n",
              "    </tr>\n",
              "  </tbody>\n",
              "</table>\n",
              "</div>\n",
              "    <div class=\"colab-df-buttons\">\n",
              "\n",
              "  <div class=\"colab-df-container\">\n",
              "    <button class=\"colab-df-convert\" onclick=\"convertToInteractive('df-2d2d710a-b4ea-4a36-8d0c-2a2abd6cbbb6')\"\n",
              "            title=\"Convert this dataframe to an interactive table.\"\n",
              "            style=\"display:none;\">\n",
              "\n",
              "  <svg xmlns=\"http://www.w3.org/2000/svg\" height=\"24px\" viewBox=\"0 -960 960 960\">\n",
              "    <path d=\"M120-120v-720h720v720H120Zm60-500h600v-160H180v160Zm220 220h160v-160H400v160Zm0 220h160v-160H400v160ZM180-400h160v-160H180v160Zm440 0h160v-160H620v160ZM180-180h160v-160H180v160Zm440 0h160v-160H620v160Z\"/>\n",
              "  </svg>\n",
              "    </button>\n",
              "\n",
              "  <style>\n",
              "    .colab-df-container {\n",
              "      display:flex;\n",
              "      gap: 12px;\n",
              "    }\n",
              "\n",
              "    .colab-df-convert {\n",
              "      background-color: #E8F0FE;\n",
              "      border: none;\n",
              "      border-radius: 50%;\n",
              "      cursor: pointer;\n",
              "      display: none;\n",
              "      fill: #1967D2;\n",
              "      height: 32px;\n",
              "      padding: 0 0 0 0;\n",
              "      width: 32px;\n",
              "    }\n",
              "\n",
              "    .colab-df-convert:hover {\n",
              "      background-color: #E2EBFA;\n",
              "      box-shadow: 0px 1px 2px rgba(60, 64, 67, 0.3), 0px 1px 3px 1px rgba(60, 64, 67, 0.15);\n",
              "      fill: #174EA6;\n",
              "    }\n",
              "\n",
              "    .colab-df-buttons div {\n",
              "      margin-bottom: 4px;\n",
              "    }\n",
              "\n",
              "    [theme=dark] .colab-df-convert {\n",
              "      background-color: #3B4455;\n",
              "      fill: #D2E3FC;\n",
              "    }\n",
              "\n",
              "    [theme=dark] .colab-df-convert:hover {\n",
              "      background-color: #434B5C;\n",
              "      box-shadow: 0px 1px 3px 1px rgba(0, 0, 0, 0.15);\n",
              "      filter: drop-shadow(0px 1px 2px rgba(0, 0, 0, 0.3));\n",
              "      fill: #FFFFFF;\n",
              "    }\n",
              "  </style>\n",
              "\n",
              "    <script>\n",
              "      const buttonEl =\n",
              "        document.querySelector('#df-2d2d710a-b4ea-4a36-8d0c-2a2abd6cbbb6 button.colab-df-convert');\n",
              "      buttonEl.style.display =\n",
              "        google.colab.kernel.accessAllowed ? 'block' : 'none';\n",
              "\n",
              "      async function convertToInteractive(key) {\n",
              "        const element = document.querySelector('#df-2d2d710a-b4ea-4a36-8d0c-2a2abd6cbbb6');\n",
              "        const dataTable =\n",
              "          await google.colab.kernel.invokeFunction('convertToInteractive',\n",
              "                                                    [key], {});\n",
              "        if (!dataTable) return;\n",
              "\n",
              "        const docLinkHtml = 'Like what you see? Visit the ' +\n",
              "          '<a target=\"_blank\" href=https://colab.research.google.com/notebooks/data_table.ipynb>data table notebook</a>'\n",
              "          + ' to learn more about interactive tables.';\n",
              "        element.innerHTML = '';\n",
              "        dataTable['output_type'] = 'display_data';\n",
              "        await google.colab.output.renderOutput(dataTable, element);\n",
              "        const docLink = document.createElement('div');\n",
              "        docLink.innerHTML = docLinkHtml;\n",
              "        element.appendChild(docLink);\n",
              "      }\n",
              "    </script>\n",
              "  </div>\n",
              "\n",
              "\n",
              "<div id=\"df-62a55938-3620-43f8-bc54-815e53b06522\">\n",
              "  <button class=\"colab-df-quickchart\" onclick=\"quickchart('df-62a55938-3620-43f8-bc54-815e53b06522')\"\n",
              "            title=\"Suggest charts\"\n",
              "            style=\"display:none;\">\n",
              "\n",
              "<svg xmlns=\"http://www.w3.org/2000/svg\" height=\"24px\"viewBox=\"0 0 24 24\"\n",
              "     width=\"24px\">\n",
              "    <g>\n",
              "        <path d=\"M19 3H5c-1.1 0-2 .9-2 2v14c0 1.1.9 2 2 2h14c1.1 0 2-.9 2-2V5c0-1.1-.9-2-2-2zM9 17H7v-7h2v7zm4 0h-2V7h2v10zm4 0h-2v-4h2v4z\"/>\n",
              "    </g>\n",
              "</svg>\n",
              "  </button>\n",
              "\n",
              "<style>\n",
              "  .colab-df-quickchart {\n",
              "      --bg-color: #E8F0FE;\n",
              "      --fill-color: #1967D2;\n",
              "      --hover-bg-color: #E2EBFA;\n",
              "      --hover-fill-color: #174EA6;\n",
              "      --disabled-fill-color: #AAA;\n",
              "      --disabled-bg-color: #DDD;\n",
              "  }\n",
              "\n",
              "  [theme=dark] .colab-df-quickchart {\n",
              "      --bg-color: #3B4455;\n",
              "      --fill-color: #D2E3FC;\n",
              "      --hover-bg-color: #434B5C;\n",
              "      --hover-fill-color: #FFFFFF;\n",
              "      --disabled-bg-color: #3B4455;\n",
              "      --disabled-fill-color: #666;\n",
              "  }\n",
              "\n",
              "  .colab-df-quickchart {\n",
              "    background-color: var(--bg-color);\n",
              "    border: none;\n",
              "    border-radius: 50%;\n",
              "    cursor: pointer;\n",
              "    display: none;\n",
              "    fill: var(--fill-color);\n",
              "    height: 32px;\n",
              "    padding: 0;\n",
              "    width: 32px;\n",
              "  }\n",
              "\n",
              "  .colab-df-quickchart:hover {\n",
              "    background-color: var(--hover-bg-color);\n",
              "    box-shadow: 0 1px 2px rgba(60, 64, 67, 0.3), 0 1px 3px 1px rgba(60, 64, 67, 0.15);\n",
              "    fill: var(--button-hover-fill-color);\n",
              "  }\n",
              "\n",
              "  .colab-df-quickchart-complete:disabled,\n",
              "  .colab-df-quickchart-complete:disabled:hover {\n",
              "    background-color: var(--disabled-bg-color);\n",
              "    fill: var(--disabled-fill-color);\n",
              "    box-shadow: none;\n",
              "  }\n",
              "\n",
              "  .colab-df-spinner {\n",
              "    border: 2px solid var(--fill-color);\n",
              "    border-color: transparent;\n",
              "    border-bottom-color: var(--fill-color);\n",
              "    animation:\n",
              "      spin 1s steps(1) infinite;\n",
              "  }\n",
              "\n",
              "  @keyframes spin {\n",
              "    0% {\n",
              "      border-color: transparent;\n",
              "      border-bottom-color: var(--fill-color);\n",
              "      border-left-color: var(--fill-color);\n",
              "    }\n",
              "    20% {\n",
              "      border-color: transparent;\n",
              "      border-left-color: var(--fill-color);\n",
              "      border-top-color: var(--fill-color);\n",
              "    }\n",
              "    30% {\n",
              "      border-color: transparent;\n",
              "      border-left-color: var(--fill-color);\n",
              "      border-top-color: var(--fill-color);\n",
              "      border-right-color: var(--fill-color);\n",
              "    }\n",
              "    40% {\n",
              "      border-color: transparent;\n",
              "      border-right-color: var(--fill-color);\n",
              "      border-top-color: var(--fill-color);\n",
              "    }\n",
              "    60% {\n",
              "      border-color: transparent;\n",
              "      border-right-color: var(--fill-color);\n",
              "    }\n",
              "    80% {\n",
              "      border-color: transparent;\n",
              "      border-right-color: var(--fill-color);\n",
              "      border-bottom-color: var(--fill-color);\n",
              "    }\n",
              "    90% {\n",
              "      border-color: transparent;\n",
              "      border-bottom-color: var(--fill-color);\n",
              "    }\n",
              "  }\n",
              "</style>\n",
              "\n",
              "  <script>\n",
              "    async function quickchart(key) {\n",
              "      const quickchartButtonEl =\n",
              "        document.querySelector('#' + key + ' button');\n",
              "      quickchartButtonEl.disabled = true;  // To prevent multiple clicks.\n",
              "      quickchartButtonEl.classList.add('colab-df-spinner');\n",
              "      try {\n",
              "        const charts = await google.colab.kernel.invokeFunction(\n",
              "            'suggestCharts', [key], {});\n",
              "      } catch (error) {\n",
              "        console.error('Error during call to suggestCharts:', error);\n",
              "      }\n",
              "      quickchartButtonEl.classList.remove('colab-df-spinner');\n",
              "      quickchartButtonEl.classList.add('colab-df-quickchart-complete');\n",
              "    }\n",
              "    (() => {\n",
              "      let quickchartButtonEl =\n",
              "        document.querySelector('#df-62a55938-3620-43f8-bc54-815e53b06522 button');\n",
              "      quickchartButtonEl.style.display =\n",
              "        google.colab.kernel.accessAllowed ? 'block' : 'none';\n",
              "    })();\n",
              "  </script>\n",
              "</div>\n",
              "\n",
              "    </div>\n",
              "  </div>\n"
            ],
            "application/vnd.google.colaboratory.intrinsic+json": {
              "type": "dataframe",
              "summary": "{\n  \"name\": \"ViewActivity_df\",\n  \"rows\": 8,\n  \"fields\": [\n    {\n      \"column\": \"Duration Hour\",\n      \"properties\": {\n        \"dtype\": \"number\",\n        \"std\": 3532.592997137047,\n        \"min\": 0.0,\n        \"max\": 9992.0,\n        \"num_unique_values\": 5,\n        \"samples\": [\n          0.030624499599679743,\n          2.0,\n          0.19773234076137997\n        ],\n        \"semantic_type\": \"\",\n        \"description\": \"\"\n      }\n    },\n    {\n      \"column\": \"Duration Minute\",\n      \"properties\": {\n        \"dtype\": \"number\",\n        \"std\": 3526.955540806528,\n        \"min\": 0.0,\n        \"max\": 9992.0,\n        \"num_unique_values\": 7,\n        \"samples\": [\n          9992.0,\n          12.646417133706965,\n          21.0\n        ],\n        \"semantic_type\": \"\",\n        \"description\": \"\"\n      }\n    },\n    {\n      \"column\": \"Duration Second\",\n      \"properties\": {\n        \"dtype\": \"number\",\n        \"std\": 3524.0265926775533,\n        \"min\": 0.0,\n        \"max\": 9992.0,\n        \"num_unique_values\": 8,\n        \"samples\": [\n          25.066553242594075,\n          23.0,\n          9992.0\n        ],\n        \"semantic_type\": \"\",\n        \"description\": \"\"\n      }\n    },\n    {\n      \"column\": \"Total in Minutes\",\n      \"properties\": {\n        \"dtype\": \"number\",\n        \"std\": 3520.992722147705,\n        \"min\": 0.0167,\n        \"max\": 9992.0,\n        \"num_unique_values\": 8,\n        \"samples\": [\n          14.901663630904725,\n          8.55,\n          9992.0\n        ],\n        \"semantic_type\": \"\",\n        \"description\": \"\"\n      }\n    }\n  ]\n}"
            }
          },
          "metadata": {},
          "execution_count": 36
        }
      ]
    },
    {
      "cell_type": "code",
      "source": [
        "# Questão 01:\n",
        "# Analisar a duração média que cada usuário assiste aos títulos na Netflix.\n",
        "\n",
        "usergroup_duration_df = ViewActivity_df.groupby('User')['Total in Minutes'].mean()\n",
        "usergroup_duration_df"
      ],
      "metadata": {
        "colab": {
          "base_uri": "https://localhost:8080/"
        },
        "id": "aHIa_-Bm84__",
        "outputId": "1304c407-e51c-467c-f3eb-ce629f32b30f"
      },
      "execution_count": 37,
      "outputs": [
        {
          "output_type": "execute_result",
          "data": {
            "text/plain": [
              "User\n",
              "User 0    14.486591\n",
              "User 1    11.483333\n",
              "User 2    19.126518\n",
              "User 3    14.914688\n",
              "User 4    16.610788\n",
              "User 5     9.047889\n",
              "User 6    11.366436\n",
              "User 7    13.625592\n",
              "User 8    14.317738\n",
              "Name: Total in Minutes, dtype: float64"
            ]
          },
          "metadata": {},
          "execution_count": 37
        }
      ]
    },
    {
      "cell_type": "code",
      "source": [
        "import matplotlib.pyplot as plt\n",
        "\n",
        "# Obtendo o valor médio total dos minutos assistidos:\n",
        "mean_vw = ViewActivity_df.describe()['Total in Minutes']\n",
        "\n",
        "plt.rcParams['axes.labelsize'] = 8\n",
        "plt.rcParams['xtick.labelsize'] = 6\n",
        "plt.rcParams['ytick.labelsize'] = 6\n",
        "\n",
        "plt.bar(usergroup_duration_df.index, usergroup_duration_df.values)\n",
        "plt.xlabel(\"Usuários\")\n",
        "plt.ylabel(\"Minutos\")\n",
        "plt.title(\"Duração Média Assistida em Cada Título\", fontsize=10)\n",
        "plt.axhline(y=mean_vw['mean'], color='red', linestyle='dashed', linewidth=1)\n",
        "plt.show()"
      ],
      "metadata": {
        "colab": {
          "base_uri": "https://localhost:8080/",
          "height": 460
        },
        "id": "2fs_PfBMOPJr",
        "outputId": "6aedf87a-eb9b-488e-bd23-e5349666c747"
      },
      "execution_count": 38,
      "outputs": [
        {
          "output_type": "display_data",
          "data": {
            "text/plain": [
              "<Figure size 640x480 with 1 Axes>"
            ],
            "image/png": "[encoded data removed]"
          },
          "metadata": {}
        }
      ]
    },
    {
      "cell_type": "code",
      "source": [
        "# Questão 02:\n",
        "# Analisar o tempo total assitido pelos usuários em função do dia da semana.\n",
        "\n",
        "# Manipulando o Dataframe original para um novo dataframe com as datas para conversão em dias da semana e total de minutos:\n",
        "weekly_views_df = ViewActivity_df.drop(['User', 'Title', 'Duration Hour', 'Duration Minute', 'Duration Second'], axis='columns')\n",
        "weekly_views_df['Date Format'] = pd.to_datetime(ViewActivity_df['Date'])\n",
        "weekly_views_df['weekday'] = weekly_views_df['Date Format'].dt.strftime('%A')\n",
        "#weekly_views_df['weekday_id'] = weekly_views_df['Date Format'].dt.strftime('%w')\n",
        "\n",
        "weekly_views_df = weekly_views_df.drop(['Date', 'Date Format'], axis='columns')\n",
        "\n",
        "# Definindo um dicionário para ordenar os dias da semana\n",
        "weekday_map = {\n",
        "    \"Monday\": 0,\n",
        "    \"Tuesday\": 1,\n",
        "    \"Wednesday\": 2,\n",
        "    \"Thursday\": 3,\n",
        "    \"Friday\": 4,\n",
        "    \"Saturday\": 5,\n",
        "    \"Sunday\": 6\n",
        "}\n",
        "\n",
        "\n",
        "grouped_weekly = weekly_views_df.groupby('weekday').sum().reset_index()\n",
        "grouped_weekly['weekday_id'] = list(map(lambda x : weekday_map.get(x), grouped_weekly['weekday'] ))\n",
        "grouped_weekly = grouped_weekly.sort_values('weekday_id').reset_index()\n",
        "grouped_weekly = grouped_weekly.drop(['index', 'weekday_id'] , axis='columns')\n",
        "grouped_weekly"
      ],
      "metadata": {
        "colab": {
          "base_uri": "https://localhost:8080/",
          "height": 269
        },
        "id": "j1bXFRXQNBA-",
        "outputId": "b2909dbf-66d8-45d2-a996-001b493eb090"
      },
      "execution_count": 45,
      "outputs": [
        {
          "output_type": "execute_result",
          "data": {
            "text/plain": [
              "     weekday  Total in Minutes\n",
              "0     Monday        19891.1663\n",
              "1    Tuesday        19062.1355\n",
              "2  Wednesday        18268.6690\n",
              "3   Thursday        17695.0657\n",
              "4     Friday        20804.5845\n",
              "5   Saturday        23455.8840\n",
              "6     Sunday        29719.9180"
            ],
            "text/html": [
              "\n",
              "  <div id=\"df-259a5351-b313-456d-9782-a5192ec59e76\" class=\"colab-df-container\">\n",
              "    <div>\n",
              "<style scoped>\n",
              "    .dataframe tbody tr th:only-of-type {\n",
              "        vertical-align: middle;\n",
              "    }\n",
              "\n",
              "    .dataframe tbody tr th {\n",
              "        vertical-align: top;\n",
              "    }\n",
              "\n",
              "    .dataframe thead th {\n",
              "        text-align: right;\n",
              "    }\n",
              "</style>\n",
              "<table border=\"1\" class=\"dataframe\">\n",
              "  <thead>\n",
              "    <tr style=\"text-align: right;\">\n",
              "      <th></th>\n",
              "      <th>weekday</th>\n",
              "      <th>Total in Minutes</th>\n",
              "    </tr>\n",
              "  </thead>\n",
              "  <tbody>\n",
              "    <tr>\n",
              "      <th>0</th>\n",
              "      <td>Monday</td>\n",
              "      <td>19891.1663</td>\n",
              "    </tr>\n",
              "    <tr>\n",
              "      <th>1</th>\n",
              "      <td>Tuesday</td>\n",
              "      <td>19062.1355</td>\n",
              "    </tr>\n",
              "    <tr>\n",
              "      <th>2</th>\n",
              "      <td>Wednesday</td>\n",
              "      <td>18268.6690</td>\n",
              "    </tr>\n",
              "    <tr>\n",
              "      <th>3</th>\n",
              "      <td>Thursday</td>\n",
              "      <td>17695.0657</td>\n",
              "    </tr>\n",
              "    <tr>\n",
              "      <th>4</th>\n",
              "      <td>Friday</td>\n",
              "      <td>20804.5845</td>\n",
              "    </tr>\n",
              "    <tr>\n",
              "      <th>5</th>\n",
              "      <td>Saturday</td>\n",
              "      <td>23455.8840</td>\n",
              "    </tr>\n",
              "    <tr>\n",
              "      <th>6</th>\n",
              "      <td>Sunday</td>\n",
              "      <td>29719.9180</td>\n",
              "    </tr>\n",
              "  </tbody>\n",
              "</table>\n",
              "</div>\n",
              "    <div class=\"colab-df-buttons\">\n",
              "\n",
              "  <div class=\"colab-df-container\">\n",
              "    <button class=\"colab-df-convert\" onclick=\"convertToInteractive('df-259a5351-b313-456d-9782-a5192ec59e76')\"\n",
              "            title=\"Convert this dataframe to an interactive table.\"\n",
              "            style=\"display:none;\">\n",
              "\n",
              "  <svg xmlns=\"http://www.w3.org/2000/svg\" height=\"24px\" viewBox=\"0 -960 960 960\">\n",
              "    <path d=\"M120-120v-720h720v720H120Zm60-500h600v-160H180v160Zm220 220h160v-160H400v160Zm0 220h160v-160H400v160ZM180-400h160v-160H180v160Zm440 0h160v-160H620v160ZM180-180h160v-160H180v160Zm440 0h160v-160H620v160Z\"/>\n",
              "  </svg>\n",
              "    </button>\n",
              "\n",
              "  <style>\n",
              "    .colab-df-container {\n",
              "      display:flex;\n",
              "      gap: 12px;\n",
              "    }\n",
              "\n",
              "    .colab-df-convert {\n",
              "      background-color: #E8F0FE;\n",
              "      border: none;\n",
              "      border-radius: 50%;\n",
              "      cursor: pointer;\n",
              "      display: none;\n",
              "      fill: #1967D2;\n",
              "      height: 32px;\n",
              "      padding: 0 0 0 0;\n",
              "      width: 32px;\n",
              "    }\n",
              "\n",
              "    .colab-df-convert:hover {\n",
              "      background-color: #E2EBFA;\n",
              "      box-shadow: 0px 1px 2px rgba(60, 64, 67, 0.3), 0px 1px 3px 1px rgba(60, 64, 67, 0.15);\n",
              "      fill: #174EA6;\n",
              "    }\n",
              "\n",
              "    .colab-df-buttons div {\n",
              "      margin-bottom: 4px;\n",
              "    }\n",
              "\n",
              "    [theme=dark] .colab-df-convert {\n",
              "      background-color: #3B4455;\n",
              "      fill: #D2E3FC;\n",
              "    }\n",
              "\n",
              "    [theme=dark] .colab-df-convert:hover {\n",
              "      background-color: #434B5C;\n",
              "      box-shadow: 0px 1px 3px 1px rgba(0, 0, 0, 0.15);\n",
              "      filter: drop-shadow(0px 1px 2px rgba(0, 0, 0, 0.3));\n",
              "      fill: #FFFFFF;\n",
              "    }\n",
              "  </style>\n",
              "\n",
              "    <script>\n",
              "      const buttonEl =\n",
              "        document.querySelector('#df-259a5351-b313-456d-9782-a5192ec59e76 button.colab-df-convert');\n",
              "      buttonEl.style.display =\n",
              "        google.colab.kernel.accessAllowed ? 'block' : 'none';\n",
              "\n",
              "      async function convertToInteractive(key) {\n",
              "        const element = document.querySelector('#df-259a5351-b313-456d-9782-a5192ec59e76');\n",
              "        const dataTable =\n",
              "          await google.colab.kernel.invokeFunction('convertToInteractive',\n",
              "                                                    [key], {});\n",
              "        if (!dataTable) return;\n",
              "\n",
              "        const docLinkHtml = 'Like what you see? Visit the ' +\n",
              "          '<a target=\"_blank\" href=https://colab.research.google.com/notebooks/data_table.ipynb>data table notebook</a>'\n",
              "          + ' to learn more about interactive tables.';\n",
              "        element.innerHTML = '';\n",
              "        dataTable['output_type'] = 'display_data';\n",
              "        await google.colab.output.renderOutput(dataTable, element);\n",
              "        const docLink = document.createElement('div');\n",
              "        docLink.innerHTML = docLinkHtml;\n",
              "        element.appendChild(docLink);\n",
              "      }\n",
              "    </script>\n",
              "  </div>\n",
              "\n",
              "\n",
              "<div id=\"df-c46311c4-d4d3-4bd9-b9d1-34a3aa851719\">\n",
              "  <button class=\"colab-df-quickchart\" onclick=\"quickchart('df-c46311c4-d4d3-4bd9-b9d1-34a3aa851719')\"\n",
              "            title=\"Suggest charts\"\n",
              "            style=\"display:none;\">\n",
              "\n",
              "<svg xmlns=\"http://www.w3.org/2000/svg\" height=\"24px\"viewBox=\"0 0 24 24\"\n",
              "     width=\"24px\">\n",
              "    <g>\n",
              "        <path d=\"M19 3H5c-1.1 0-2 .9-2 2v14c0 1.1.9 2 2 2h14c1.1 0 2-.9 2-2V5c0-1.1-.9-2-2-2zM9 17H7v-7h2v7zm4 0h-2V7h2v10zm4 0h-2v-4h2v4z\"/>\n",
              "    </g>\n",
              "</svg>\n",
              "  </button>\n",
              "\n",
              "<style>\n",
              "  .colab-df-quickchart {\n",
              "      --bg-color: #E8F0FE;\n",
              "      --fill-color: #1967D2;\n",
              "      --hover-bg-color: #E2EBFA;\n",
              "      --hover-fill-color: #174EA6;\n",
              "      --disabled-fill-color: #AAA;\n",
              "      --disabled-bg-color: #DDD;\n",
              "  }\n",
              "\n",
              "  [theme=dark] .colab-df-quickchart {\n",
              "      --bg-color: #3B4455;\n",
              "      --fill-color: #D2E3FC;\n",
              "      --hover-bg-color: #434B5C;\n",
              "      --hover-fill-color: #FFFFFF;\n",
              "      --disabled-bg-color: #3B4455;\n",
              "      --disabled-fill-color: #666;\n",
              "  }\n",
              "\n",
              "  .colab-df-quickchart {\n",
              "    background-color: var(--bg-color);\n",
              "    border: none;\n",
              "    border-radius: 50%;\n",
              "    cursor: pointer;\n",
              "    display: none;\n",
              "    fill: var(--fill-color);\n",
              "    height: 32px;\n",
              "    padding: 0;\n",
              "    width: 32px;\n",
              "  }\n",
              "\n",
              "  .colab-df-quickchart:hover {\n",
              "    background-color: var(--hover-bg-color);\n",
              "    box-shadow: 0 1px 2px rgba(60, 64, 67, 0.3), 0 1px 3px 1px rgba(60, 64, 67, 0.15);\n",
              "    fill: var(--button-hover-fill-color);\n",
              "  }\n",
              "\n",
              "  .colab-df-quickchart-complete:disabled,\n",
              "  .colab-df-quickchart-complete:disabled:hover {\n",
              "    background-color: var(--disabled-bg-color);\n",
              "    fill: var(--disabled-fill-color);\n",
              "    box-shadow: none;\n",
              "  }\n",
              "\n",
              "  .colab-df-spinner {\n",
              "    border: 2px solid var(--fill-color);\n",
              "    border-color: transparent;\n",
              "    border-bottom-color: var(--fill-color);\n",
              "    animation:\n",
              "      spin 1s steps(1) infinite;\n",
              "  }\n",
              "\n",
              "  @keyframes spin {\n",
              "    0% {\n",
              "      border-color: transparent;\n",
              "      border-bottom-color: var(--fill-color);\n",
              "      border-left-color: var(--fill-color);\n",
              "    }\n",
              "    20% {\n",
              "      border-color: transparent;\n",
              "      border-left-color: var(--fill-color);\n",
              "      border-top-color: var(--fill-color);\n",
              "    }\n",
              "    30% {\n",
              "      border-color: transparent;\n",
              "      border-left-color: var(--fill-color);\n",
              "      border-top-color: var(--fill-color);\n",
              "      border-right-color: var(--fill-color);\n",
              "    }\n",
              "    40% {\n",
              "      border-color: transparent;\n",
              "      border-right-color: var(--fill-color);\n",
              "      border-top-color: var(--fill-color);\n",
              "    }\n",
              "    60% {\n",
              "      border-color: transparent;\n",
              "      border-right-color: var(--fill-color);\n",
              "    }\n",
              "    80% {\n",
              "      border-color: transparent;\n",
              "      border-right-color: var(--fill-color);\n",
              "      border-bottom-color: var(--fill-color);\n",
              "    }\n",
              "    90% {\n",
              "      border-color: transparent;\n",
              "      border-bottom-color: var(--fill-color);\n",
              "    }\n",
              "  }\n",
              "</style>\n",
              "\n",
              "  <script>\n",
              "    async function quickchart(key) {\n",
              "      const quickchartButtonEl =\n",
              "        document.querySelector('#' + key + ' button');\n",
              "      quickchartButtonEl.disabled = true;  // To prevent multiple clicks.\n",
              "      quickchartButtonEl.classList.add('colab-df-spinner');\n",
              "      try {\n",
              "        const charts = await google.colab.kernel.invokeFunction(\n",
              "            'suggestCharts', [key], {});\n",
              "      } catch (error) {\n",
              "        console.error('Error during call to suggestCharts:', error);\n",
              "      }\n",
              "      quickchartButtonEl.classList.remove('colab-df-spinner');\n",
              "      quickchartButtonEl.classList.add('colab-df-quickchart-complete');\n",
              "    }\n",
              "    (() => {\n",
              "      let quickchartButtonEl =\n",
              "        document.querySelector('#df-c46311c4-d4d3-4bd9-b9d1-34a3aa851719 button');\n",
              "      quickchartButtonEl.style.display =\n",
              "        google.colab.kernel.accessAllowed ? 'block' : 'none';\n",
              "    })();\n",
              "  </script>\n",
              "</div>\n",
              "\n",
              "  <div id=\"id_e209f644-7f91-4783-9a00-174019c1fa58\">\n",
              "    <style>\n",
              "      .colab-df-generate {\n",
              "        background-color: #E8F0FE;\n",
              "        border: none;\n",
              "        border-radius: 50%;\n",
              "        cursor: pointer;\n",
              "        display: none;\n",
              "        fill: #1967D2;\n",
              "        height: 32px;\n",
              "        padding: 0 0 0 0;\n",
              "        width: 32px;\n",
              "      }\n",
              "\n",
              "      .colab-df-generate:hover {\n",
              "        background-color: #E2EBFA;\n",
              "        box-shadow: 0px 1px 2px rgba(60, 64, 67, 0.3), 0px 1px 3px 1px rgba(60, 64, 67, 0.15);\n",
              "        fill: #174EA6;\n",
              "      }\n",
              "\n",
              "      [theme=dark] .colab-df-generate {\n",
              "        background-color: #3B4455;\n",
              "        fill: #D2E3FC;\n",
              "      }\n",
              "\n",
              "      [theme=dark] .colab-df-generate:hover {\n",
              "        background-color: #434B5C;\n",
              "        box-shadow: 0px 1px 3px 1px rgba(0, 0, 0, 0.15);\n",
              "        filter: drop-shadow(0px 1px 2px rgba(0, 0, 0, 0.3));\n",
              "        fill: #FFFFFF;\n",
              "      }\n",
              "    </style>\n",
              "    <button class=\"colab-df-generate\" onclick=\"generateWithVariable('grouped_weekly')\"\n",
              "            title=\"Generate code using this dataframe.\"\n",
              "            style=\"display:none;\">\n",
              "\n",
              "  <svg xmlns=\"http://www.w3.org/2000/svg\" height=\"24px\"viewBox=\"0 0 24 24\"\n",
              "       width=\"24px\">\n",
              "    <path d=\"M7,19H8.4L18.45,9,17,7.55,7,17.6ZM5,21V16.75L18.45,3.32a2,2,0,0,1,2.83,0l1.4,1.43a1.91,1.91,0,0,1,.58,1.4,1.91,1.91,0,0,1-.58,1.4L9.25,21ZM18.45,9,17,7.55Zm-12,3A5.31,5.31,0,0,0,4.9,8.1,5.31,5.31,0,0,0,1,6.5,5.31,5.31,0,0,0,4.9,4.9,5.31,5.31,0,0,0,6.5,1,5.31,5.31,0,0,0,8.1,4.9,5.31,5.31,0,0,0,12,6.5,5.46,5.46,0,0,0,6.5,12Z\"/>\n",
              "  </svg>\n",
              "    </button>\n",
              "    <script>\n",
              "      (() => {\n",
              "      const buttonEl =\n",
              "        document.querySelector('#id_e209f644-7f91-4783-9a00-174019c1fa58 button.colab-df-generate');\n",
              "      buttonEl.style.display =\n",
              "        google.colab.kernel.accessAllowed ? 'block' : 'none';\n",
              "\n",
              "      buttonEl.onclick = () => {\n",
              "        google.colab.notebook.generateWithVariable('grouped_weekly');\n",
              "      }\n",
              "      })();\n",
              "    </script>\n",
              "  </div>\n",
              "\n",
              "    </div>\n",
              "  </div>\n"
            ],
            "application/vnd.google.colaboratory.intrinsic+json": {
              "type": "dataframe",
              "variable_name": "grouped_weekly",
              "summary": "{\n  \"name\": \"grouped_weekly\",\n  \"rows\": 7,\n  \"fields\": [\n    {\n      \"column\": \"weekday\",\n      \"properties\": {\n        \"dtype\": \"string\",\n        \"num_unique_values\": 7,\n        \"samples\": [\n          \"Monday\",\n          \"Tuesday\",\n          \"Saturday\"\n        ],\n        \"semantic_type\": \"\",\n        \"description\": \"\"\n      }\n    },\n    {\n      \"column\": \"Total in Minutes\",\n      \"properties\": {\n        \"dtype\": \"number\",\n        \"std\": 4182.49920955865,\n        \"min\": 17695.0657,\n        \"max\": 29719.918,\n        \"num_unique_values\": 7,\n        \"samples\": [\n          19891.1663,\n          19062.1355,\n          23455.884\n        ],\n        \"semantic_type\": \"\",\n        \"description\": \"\"\n      }\n    }\n  ]\n}"
            }
          },
          "metadata": {},
          "execution_count": 45
        }
      ]
    },
    {
      "cell_type": "code",
      "source": [
        "total_weekend = grouped_weekly['Total in Minutes'][5:7].sum()\n",
        "total_week = grouped_weekly['Total in Minutes'][0:5].sum()\n",
        "\n",
        "print(f'Percentual duração nos finais de semana: {total_weekend/total_week: .4f}')"
      ],
      "metadata": {
        "colab": {
          "base_uri": "https://localhost:8080/"
        },
        "id": "9ESI9zJqpcHG",
        "outputId": "bccd4b0e-5f2f-40e2-d9b2-3c0ee1e2c34b"
      },
      "execution_count": 65,
      "outputs": [
        {
          "output_type": "stream",
          "name": "stdout",
          "text": [
            "Percentual duração nos finais de semana:  0.5555\n"
          ]
        }
      ]
    },
    {
      "cell_type": "code",
      "source": [
        "plt.rcParams['axes.labelsize'] = 8\n",
        "plt.rcParams['xtick.labelsize'] = 6\n",
        "plt.rcParams['ytick.labelsize'] = 6\n",
        "\n",
        "plt.bar(grouped_weekly['weekday'], grouped_weekly['Total in Minutes'])\n",
        "plt.xlabel(\"Dias da Semana\")\n",
        "plt.ylabel(\"Minutos\")\n",
        "plt.title(\"Minutos Assistidos por Dia da Semana\", fontsize=10)\n",
        "\n",
        "\n",
        "plt.show()"
      ],
      "metadata": {
        "colab": {
          "base_uri": "https://localhost:8080/",
          "height": 460
        },
        "id": "j4iB6FU6oKIR",
        "outputId": "1faec99c-af8d-40c7-d672-a04f3d87b58c"
      },
      "execution_count": 46,
      "outputs": [
        {
          "output_type": "display_data",
          "data": {
            "text/plain": [
              "<Figure size 640x480 with 1 Axes>"
            ],
            "image/png": "[encoded data removed]"
          },
          "metadata": {}
        }
      ]
    },
    {
      "cell_type": "code",
      "source": [
        "ViewActivity_df.info()"
      ],
      "metadata": {
        "colab": {
          "base_uri": "https://localhost:8080/"
        },
        "id": "puHKJfgxbAmy",
        "outputId": "f1c111ad-282a-4402-a01b-e93a473e1393"
      },
      "execution_count": 47,
      "outputs": [
        {
          "output_type": "stream",
          "name": "stdout",
          "text": [
            "<class 'pandas.core.frame.DataFrame'>\n",
            "RangeIndex: 9992 entries, 0 to 9991\n",
            "Data columns (total 7 columns):\n",
            " #   Column            Non-Null Count  Dtype  \n",
            "---  ------            --------------  -----  \n",
            " 0   User              9992 non-null   object \n",
            " 1   Title             9992 non-null   object \n",
            " 2   Date              9992 non-null   object \n",
            " 3   Duration Hour     9992 non-null   int64  \n",
            " 4   Duration Minute   9992 non-null   int64  \n",
            " 5   Duration Second   9992 non-null   int64  \n",
            " 6   Total in Minutes  9992 non-null   float64\n",
            "dtypes: float64(1), int64(3), object(3)\n",
            "memory usage: 546.6+ KB\n"
          ]
        }
      ]
    },
    {
      "cell_type": "code",
      "source": [
        "# Salvando os resultados das análises em arquivos csv\n",
        "\n",
        "usergroup_duration_df.to_csv('usergroup_duration.csv')\n",
        "grouped_weekly.to_csv('grouped_weekly.csv', index=False)"
      ],
      "metadata": {
        "id": "jZib1LQ2NBJO"
      },
      "execution_count": 48,
      "outputs": []
    }
  ]
}